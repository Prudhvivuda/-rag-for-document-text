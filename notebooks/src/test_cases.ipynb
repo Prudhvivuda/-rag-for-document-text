{
 "cells": [
  {
   "cell_type": "markdown",
   "id": "f21aa1d1-2dd7-4fe8-b101-3e469bebece0",
   "metadata": {},
   "source": [
    "# Let's use this notebook for testcases"
   ]
  },
  {
   "cell_type": "markdown",
   "id": "e0fa1412-9e81-4555-b729-6e42a51f540f",
   "metadata": {},
   "source": [
    "### The testcases are taken from the prompt files in prompt folder"
   ]
  },
  {
   "cell_type": "code",
   "execution_count": 14,
   "id": "f1df6f9b-f426-430e-ab5f-871b54c7d3b3",
   "metadata": {},
   "outputs": [],
   "source": [
    "from answer_question import answerQuestion\n",
    "from utils.build_index import buildIndex\n",
    "from utils.evaluate import evaluateAnswer\n",
    "\n",
    "import json"
   ]
  },
  {
   "cell_type": "code",
   "execution_count": 15,
   "id": "0e899e41-d967-4130-aa4f-cdd8640297e1",
   "metadata": {},
   "outputs": [],
   "source": [
    "documents_folder=\"../renewable-energy/renewable-energy\""
   ]
  },
  {
   "cell_type": "code",
   "execution_count": 16,
   "id": "e0692550-f645-40ea-bb30-f02b39eefad7",
   "metadata": {},
   "outputs": [],
   "source": [
    "index = buildIndex(documents_folder) "
   ]
  },
  {
   "cell_type": "markdown",
   "id": "92dceea1-2537-408d-9f9f-8433a8df669d",
   "metadata": {},
   "source": [
    "## Testcase 1"
   ]
  },
  {
   "cell_type": "code",
   "execution_count": 17,
   "id": "d15ceeb7-2046-4422-b4a1-0bff5679d977",
   "metadata": {},
   "outputs": [
    {
     "name": "stdout",
     "output_type": "stream",
     "text": [
      "{\"Answer\": \" Based on the provided documents, Enhanced Geothermal Systems (EGS) are unlocking geothermal potential in areas with naturally low permeability. This is achieved by injecting water through fractured rock formations, thereby creating artificial reservoirs of hot water that can be extracted for energy generation. These systems allow for the extraction of geothermal energy even in locations previously deemed unsuitable due to a lack of natural resources.\", \"SourceDoc\": [\"12\", \"10\", \"11\"]}\n"
     ]
    }
   ],
   "source": [
    "tc1_response = answerQuestion(\"Which enhanced systems are unlocking geothermal potential in with naturally low permeability?\", index)\n",
    "print(json.dumps(tc1_response))"
   ]
  },
  {
   "cell_type": "code",
   "execution_count": 18,
   "id": "89918441-3c79-4c23-bae1-a943978e75b1",
   "metadata": {},
   "outputs": [
    {
     "name": "stdout",
     "output_type": "stream",
     "text": [
      "{'Score': 0.17253778987195323, 'Feedback': 'The answer is relatively close!'}\n"
     ]
    }
   ],
   "source": [
    "tc1_answer = \"Enhanced Geothermal Systems (EGS) are unlocking the geothermal potential in areas with naturally low permeability.\"\n",
    "print(evaluateAnswer(tc1_answer, tc1_response['Answer']))"
   ]
  },
  {
   "cell_type": "markdown",
   "id": "e501aa88-2853-4a6f-a878-20ce1a02edd7",
   "metadata": {},
   "source": [
    "## Testcase 2"
   ]
  },
  {
   "cell_type": "code",
   "execution_count": 19,
   "id": "f89e7d20-211b-464e-b3ce-2565d0d8a3ae",
   "metadata": {},
   "outputs": [
    {
     "name": "stdout",
     "output_type": "stream",
     "text": [
      "{\"Answer\": \" The answer to your question is \\\"bifacial solar panels\\\". Bifacial solar panels capture sunlight reflected off the ground from both sides, boosting energy production by up to 20%. This is mentioned in the document \\\"Solar Power Gets a Boost: Efficiency and Material Advancements\\\".\", \"SourceDoc\": [\"1\", \"3\", \"2\"]}\n"
     ]
    }
   ],
   "source": [
    "tc2_response = answerQuestion(\"Which solar panels capture sunlight reflected off the ground from both sides and boosts energy production by up to 20%?\", index)\n",
    "print(json.dumps(tc2_response))"
   ]
  },
  {
   "cell_type": "code",
   "execution_count": 20,
   "id": "8c8b52c9-b2b4-4185-86f5-e879190d7e51",
   "metadata": {},
   "outputs": [
    {
     "name": "stdout",
     "output_type": "stream",
     "text": [
      "{'Score': 0.31336403611505986, 'Feedback': 'The answer is relatively close!'}\n"
     ]
    }
   ],
   "source": [
    "tc2_answer = \"bifacial solar panels capture sunlight reflected off the ground from both sides and boosts energy production by up to 20%.\"\n",
    "print(evaluateAnswer(tc2_answer, tc2_response['Answer']))"
   ]
  },
  {
   "cell_type": "markdown",
   "id": "692544a5-ec0d-4673-97b1-d8d363db942d",
   "metadata": {},
   "source": [
    "## Testcase 3"
   ]
  },
  {
   "cell_type": "code",
   "execution_count": 21,
   "id": "9280b01b-bb33-4e76-bed8-4dd78efba4bd",
   "metadata": {},
   "outputs": [
    {
     "name": "stdout",
     "output_type": "stream",
     "text": [
      "{\"Answer\": \" Biofuels are derived from organic matter like plants (non-food crops, agricultural waste) and waste (municipal waste). In some cases, they can also be derived from algae or other non-traditional sources. The focus is on utilizing sustainable sources to minimize the impact on food production and land use, while improving efficiency and reducing greenhouse gas emissions and water usage. Sustainable practices such as utilizing waste streams and fast-growing energy crops contribute to a more sustainable biomass supply chain.\", \"SourceDoc\": [\"14\", \"13\", \"26\"]}\n"
     ]
    }
   ],
   "source": [
    "tc3_response = answerQuestion(\"Where is Biofuels derived from?\", index)\n",
    "print(json.dumps(tc3_response))"
   ]
  },
  {
   "cell_type": "code",
   "execution_count": 27,
   "id": "7426ead6-bf45-4320-b625-92fd14e3ba93",
   "metadata": {},
   "outputs": [
    {
     "name": "stdout",
     "output_type": "stream",
     "text": [
      "{'Score': 0.37723409399315305, 'Feedback': 'The answer is relatively close!'}\n"
     ]
    }
   ],
   "source": [
    "tc3_answer = \"Biofuels are derived from organic matter like plants (non-food crops, agricultural waste) and waste (municipal waste). In some cases, they can also be derived from algae or other non-traditional sources.\"\n",
    "print(evaluateAnswer(tc3_answer, tc3_response['Answer']))"
   ]
  },
  {
   "cell_type": "markdown",
   "id": "5823f821-fa3a-4eb8-beda-56855d996549",
   "metadata": {},
   "source": [
    "## Testcase 4"
   ]
  },
  {
   "cell_type": "code",
   "execution_count": 23,
   "id": "4c5fc0ee-f80f-4431-9e3b-4cc67450921b",
   "metadata": {},
   "outputs": [
    {
     "name": "stdout",
     "output_type": "stream",
     "text": [
      "{\"Answer\": \" Smart grids play a pivotal role in integrating renewables by providing various solutions to address the challenges posed by the integration of variable renewable energy sources into the existing grid. These solutions include smart meters, which offer real-time data on energy usage patterns, enabling dynamic pricing and demand response programs, as well as advancements in grid stability management, such as energy storage integration and advanced distribution management.\\n\\nSmart meters help consumers optimize their energy use based on fluctuating electricity prices, incentivizing efficient consumption during peak hours, and enable utilities to better understand demand patterns and optimize grid operation for more effective integration of renewable energy sources.\\n\\nGrid stability is ensured despite the variable nature of renewable energy by predicting and managing fluctuations in power generation from renewable sources, connecting batteries and other energy storage solutions to the grid for storing excess renewable energy during periods of low demand and using it during peak times, and enabling real-time monitoring and control of power flow through the grid.\\n\\nThese advancements in smart grid technology lay the groundwork for a more sustainable and resilient energy future by empowering both consumers and utilities with information and control to seamlessly integrate renewable energy sources into the existing grid.\", \"SourceDoc\": [\"20\", \"21\", \"19\"]}\n"
     ]
    }
   ],
   "source": [
    "tc4_response = answerQuestion(\"How are smart grids playing a pivotal role in integrating renewables?\", index)\n",
    "print(json.dumps(tc4_response))"
   ]
  },
  {
   "cell_type": "code",
   "execution_count": 28,
   "id": "0a03a2db-82de-43fe-b652-5bd05093f3eb",
   "metadata": {},
   "outputs": [
    {
     "name": "stdout",
     "output_type": "stream",
     "text": [
      "{'Score': 0.3816046279138493, 'Feedback': 'The answer is relatively close!'}\n"
     ]
    }
   ],
   "source": [
    "tc4_answer = \"Smart grids are playing a pivotal role in integrating renewables by providing real-time data through smart meters, enabling efficient energy management, and ensuring grid stability. Here's how:\\n\\n1. **Smart Meters**: These advanced devices go beyond measuring electricity consumption. They provide real-time data, empowering consumers to monitor their energy usage, adjust consumption patterns based on grid needs and dynamic pricing, and optimize their energy use based on fluctuating electricity prices. Grid stability is ensured despite the variable nature of renewable energy by predicting and managing fluctuations in power generation from renewable sources, connecting batteries and other energy storage solutions to the grid for storing excess renewable energy during periods of low demand and using it during peak times, and enabling real-time monitoring and control of power flow through the grid\"\n",
    "print(evaluateAnswer(tc4_answer, tc4_response['Answer']))"
   ]
  },
  {
   "cell_type": "markdown",
   "id": "108fcafe-a62b-4ed6-a002-c257ef9a4429",
   "metadata": {},
   "source": [
    "## Testcase 5"
   ]
  },
  {
   "cell_type": "code",
   "execution_count": 25,
   "id": "b48ef9d5-3978-4cd8-964c-3544534b7847",
   "metadata": {},
   "outputs": [
    {
     "name": "stdout",
     "output_type": "stream",
     "text": [
      "{\"Answer\": \" The International Renewable Energy Agency (IRENA) predicts doubling of global renewable energy capacity by 2030. This prediction is based on information provided in the document \\\"The Global Rise of Renewables: Statistics, Outlook, Challenges, and Opportunities\\\".\", \"SourceDoc\": [\"30\", \"23\", \"28\"]}\n"
     ]
    }
   ],
   "source": [
    "tc5_response = answerQuestion(\"The International Renewable Energy Agency (IRENA) predicts doubling of global renewable energy capacity by which year?\", index)\n",
    "print(json.dumps(tc5_response))"
   ]
  },
  {
   "cell_type": "code",
   "execution_count": 26,
   "id": "96bd7312-d61b-44a6-b54d-220fcca380cb",
   "metadata": {},
   "outputs": [
    {
     "name": "stdout",
     "output_type": "stream",
     "text": [
      "{'Score': 0.37184214350816, 'Feedback': 'The answer is relatively close!'}\n"
     ]
    }
   ],
   "source": [
    "tc5_answer = \"International Renewable Energy Agency (IRENA) predicts doubling of global renewable energy capacity by 2030.\"\n",
    "print(evaluateAnswer(tc5_answer, tc5_response['Answer']))"
   ]
  },
  {
   "cell_type": "code",
   "execution_count": null,
   "id": "e410dde1-8ef0-4645-aa6c-5ad094fcea48",
   "metadata": {},
   "outputs": [],
   "source": []
  },
  {
   "cell_type": "markdown",
   "id": "fe896484-efb2-4b48-9799-7d10d981a944",
   "metadata": {},
   "source": [
    "## Conclusion"
   ]
  },
  {
   "cell_type": "markdown",
   "id": "97d0b5e0-c26e-472e-a97d-f754feff3329",
   "metadata": {},
   "source": [
    "If we see here, our RAG system is giving excellent output for the questions being asked. The scores may vary as the scoring takes various paramteres into calculation. \n",
    "\n",
    "For example for the question, \"The International Renewable Energy Agency (IRENA) predicts doubling of global renewable energy capacity by which year?\", the answers\n",
    "can be \n",
    "- \"International Renewable Energy Agency (IRENA) predicts doubling of global renewable energy capacity by 2030\"\n",
    "- \"IRENA predicts doubling of global renewable energy capacity by 2030\"\n",
    "- simply \"2030\"\n",
    "- or the llm can add or remove some text but it gives us the required correct response.\n",
    "\n",
    "So when we pass the reference answer and generated answer, based on above discussed points, the scores may vary. But still our model performs very good!"
   ]
  },
  {
   "cell_type": "code",
   "execution_count": null,
   "id": "9381ae1f-f08f-466f-9583-d3b308224730",
   "metadata": {},
   "outputs": [],
   "source": []
  }
 ],
 "metadata": {
  "kernelspec": {
   "display_name": "Python 3 (ipykernel)",
   "language": "python",
   "name": "python3"
  },
  "language_info": {
   "codemirror_mode": {
    "name": "ipython",
    "version": 3
   },
   "file_extension": ".py",
   "mimetype": "text/x-python",
   "name": "python",
   "nbconvert_exporter": "python",
   "pygments_lexer": "ipython3",
   "version": "3.11.6"
  }
 },
 "nbformat": 4,
 "nbformat_minor": 5
}
