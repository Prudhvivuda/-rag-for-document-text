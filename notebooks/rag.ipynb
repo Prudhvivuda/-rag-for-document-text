{
 "cells": [
  {
   "cell_type": "code",
   "execution_count": 46,
   "id": "06e69888-40aa-4af3-94b6-7b11b942cf57",
   "metadata": {},
   "outputs": [],
   "source": [
    "# !wget \"https://storage.googleapis.com/ds--tasks-datasets/renewable-energy.zip\""
   ]
  },
  {
   "cell_type": "code",
   "execution_count": 47,
   "id": "4fa3ca23-8c4a-46aa-856f-459bce3c77e0",
   "metadata": {},
   "outputs": [],
   "source": [
    "# import zipfile\n",
    "# with zipfile.ZipFile(\"renewable-energy.zip\",\"r\") as zip_ref:\n",
    "#     zip_ref.extractall(\"renewable-energy\")"
   ]
  },
  {
   "cell_type": "code",
   "execution_count": 48,
   "id": "2bf48a99-8066-406f-864a-b8f4af4cfd0d",
   "metadata": {},
   "outputs": [],
   "source": [
    "# !pip install rank_bm25\n",
    "# !pip install nltk\n",
    "# !pip install torch transformers accelerate\n",
    "# !pip install sentencepiece"
   ]
  },
  {
   "cell_type": "code",
   "execution_count": 49,
   "id": "552a32a9",
   "metadata": {},
   "outputs": [],
   "source": [
    "# import nltk\n",
    "# nltk.download('punkt_tab')"
   ]
  },
  {
   "cell_type": "code",
   "execution_count": 50,
   "id": "597d67f0-5837-43f2-93cc-f3e3d383ac35",
   "metadata": {},
   "outputs": [],
   "source": [
    "import os\n",
    "import json\n",
    "import glob\n",
    "from rank_bm25 import *\n",
    "from nltk.tokenize import word_tokenize\n",
    "import torch"
   ]
  },
  {
   "cell_type": "code",
   "execution_count": 51,
   "id": "53596429-ac38-486f-bb30-a4504909bf56",
   "metadata": {},
   "outputs": [],
   "source": [
    "def parse_documents(documents_folder):\n",
    "    document_texts = {}\n",
    "    for file_path in glob.glob(os.path.join(documents_folder, \"*.txt\")):\n",
    "        with open(file_path, 'r') as file:\n",
    "            doc_id = os.path.basename(file_path).split('.')[0]\n",
    "            document_texts[doc_id] = file.read()\n",
    "    return document_texts\n",
    "\n",
    "def build_index(documents_folder):\n",
    "    documents = parse_documents(documents_folder)\n",
    "    corpus = [word_tokenize(doc.lower()) for doc in documents.values()]\n",
    "    bm25 = BM25Okapi(corpus)\n",
    "    index = {\"bm25\": bm25, \"document_ids\":list(documents.keys()), \"corpus\": corpus}\n",
    "    return index\n",
    "\n",
    "def retrieve_documents(question, index):\n",
    "    tokenized_query = word_tokenize(question.lower())\n",
    "    bm25 = index['bm25']\n",
    "    scores = bm25.get_scores(tokenized_query)\n",
    "    top_indices = sorted(range(len(scores)), key=lambda i: scores[i], reverse=True)[:3]\n",
    "    top_docs = [index['document_ids'][i] for i in top_indices]\n",
    "    return top_docs"
   ]
  },
  {
   "cell_type": "code",
   "execution_count": 52,
   "id": "444971e2-cb4e-4eaf-92cb-9829af91d20b",
   "metadata": {
    "scrolled": true
   },
   "outputs": [
    {
     "name": "stdout",
     "output_type": "stream",
     "text": [
      "['30', '16', '28']\n"
     ]
    }
   ],
   "source": [
    "index = build_index(documents_folder=\"renewable-energy/renewable-energy\")\n",
    "\n",
    "top_docs = retrieve_documents(\"what is the impact of renewable energe?\", index)\n",
    "print(top_docs)"
   ]
  },
  {
   "cell_type": "code",
   "execution_count": 53,
   "id": "f0344144-cc63-48c5-bc27-ebd1f5467639",
   "metadata": {},
   "outputs": [],
   "source": [
    "from transformers import AutoModelForCausalLM, AutoTokenizer \n",
    "\n",
    "# Specify a custom cache directory\n",
    "model_path = \"./Mistral-7B\"\n",
    "\n",
    "# # Download the model and tokenizer\n",
    "# tokenizer = AutoTokenizer.from_pretrained(\"mistralai/Mistral-7B-v0.3\", cache_dir=model_path)\n",
    "# model = AutoModelForCausalLM.from_pretrained(\"mistralai/Mistral-7B-v0.3\", cache_dir=model_path)\n"
   ]
  },
  {
   "cell_type": "code",
   "execution_count": 54,
   "id": "edc613da",
   "metadata": {},
   "outputs": [
    {
     "name": "stderr",
     "output_type": "stream",
     "text": [
      "Loading checkpoint shards: 100%|██████████| 3/3 [00:32<00:00, 10.95s/it]\n"
     ]
    }
   ],
   "source": [
    "\n",
    "# Load Mistral model from local directory (once downloaded)\n",
    "tokenizer = AutoTokenizer.from_pretrained('Mistral-7B/models--mistralai--Mistral-7B-v0.3/snapshots/d8cadc02ac76bd617a919d50b092e59d2d110aff')\n",
    "model = AutoModelForCausalLM.from_pretrained('Mistral-7B/models--mistralai--Mistral-7B-v0.3/snapshots/d8cadc02ac76bd617a919d50b092e59d2d110aff', torch_dtype=\"float16\")"
   ]
  },
  {
   "cell_type": "code",
   "execution_count": 56,
   "id": "5fc4bdf4-b5a2-48e8-bcbf-73d2d224a372",
   "metadata": {},
   "outputs": [
    {
     "name": "stderr",
     "output_type": "stream",
     "text": [
      "Setting `pad_token_id` to `eos_token_id`:None for open-end generation.\n"
     ]
    },
    {
     "name": "stdout",
     "output_type": "stream",
     "text": [
      "Which enhanced systems are unlocking geothermal potential in areas with naturally low permeability?\n",
      "\n",
      "The geothermal industry is growing rapidly, with the International Energy Agency (IEA) predicting that the global installed capacity of geothermal power plants will increase by 10% per year until 2020.\n",
      "\n",
      "The IEA also predicts that geothermal power will account for 11% of the world’s electricity by 205\n"
     ]
    }
   ],
   "source": [
    "# Example usage with text generation\n",
    "from transformers import pipeline\n",
    "\n",
    "# Create a text generation pipeline\n",
    "generator = pipeline('text-generation', model=model, tokenizer=tokenizer, device='cpu')\n",
    "\n",
    "# Generate a response to a query\n",
    "response = generator(\"Which enhanced systems are unlocking geothermal potential in areas with naturally low permeability?\", max_length=100)\n",
    "print(response[0]['generated_text'])\n"
   ]
  },
  {
   "cell_type": "code",
   "execution_count": 57,
   "id": "42454dca",
   "metadata": {},
   "outputs": [],
   "source": [
    "def answer_question(question, index):\n",
    "    # Retrieve top documents based on the query\n",
    "    top_docs = retrieve_documents(question, index)\n",
    "\n",
    "    # Combine content of the top documents and truncate if necessary\n",
    "    combined_docs = \"\"\n",
    "    for doc_id in top_docs:\n",
    "        with open(f\"renewable-energy/renewable-energy/{doc_id}.txt\", 'r') as file:\n",
    "            combined_docs += file.read() + \"\\n\"\n",
    "\n",
    "    # Ensure combined_docs is not too long\n",
    "    if len(combined_docs.split()) > 500:  # Adjust the number according to the model's capability\n",
    "        combined_docs = ' '.join(combined_docs.split()[:500])  # Truncate to the first 500 words\n",
    "\n",
    "    # Use Mistral 7B to generate an answer\n",
    "    prompt = f\"Question: {question}\\nDocuments: {combined_docs}\\nAnswer:\"\n",
    "    response = generator(prompt, max_new_tokens=100)  # Use max_new_tokens instead of max_length\n",
    "\n",
    "    return {\"Answer\": response[0]['generated_text'], \"SourceDoc\": top_docs}\n",
    "\n"
   ]
  },
  {
   "cell_type": "code",
   "execution_count": 58,
   "id": "61da84f1-b0c4-4999-8746-c6e38aff02d6",
   "metadata": {},
   "outputs": [
    {
     "name": "stderr",
     "output_type": "stream",
     "text": [
      "Setting `pad_token_id` to `eos_token_id`:None for open-end generation.\n"
     ]
    },
    {
     "name": "stdout",
     "output_type": "stream",
     "text": [
      "{\"Answer\": \"Question: Which enhanced systems are unlocking geothermal potential in areas with naturally low permeability?\\nDocuments: ## Geothermal: Unveiling Earth's Hidden Heat Deep beneath our feet lies a vast, untapped reservoir of renewable energy \\u2013 geothermal heat. Unlocking this potential is where new exploration techniques and enhanced geothermal systems (EGS) are making a difference. **Drilling deeper, smarter:** Traditional drilling methods can be expensive and limited in reaching deeper, hotter geothermal resources. New techniques like directional drilling and slim-hole drilling are offering more cost-effective and precise ways to access these valuable sources. Additionally, advancements in seismic imaging are providing a clearer picture of the subsurface, allowing for more targeted drilling and reducing exploration risks. **Boosting the potential:** Enhanced geothermal systems (EGS) are unlocking geothermal potential in areas with naturally low permeability. By injecting water through fractured rock formations, EGS creates artificial reservoirs of hot water, enabling the extraction of geothermal energy even in locations previously deemed unsuitable. These advancements are paving the way for a more sustainable future powered by geothermal energy. By efficiently accessing and utilizing Earth's natural heat, we can tap into a clean and reliable source of renewable energy for generations to come. ## Geothermal: Delving Deeper with New Exploration and Systems Geothermal energy, the Earth's hidden heat, is being unlocked in exciting ways with advancements in both exploration techniques and system development. **Drilling deeper, smarter:** Traditional drilling methods are being surpassed by innovative techniques that reach greater depths, improving access to hotter geothermal resources. Directional drilling allows for precise targeting of geothermal reservoirs, while advanced drilling fluids enhance efficiency and minimize environmental impact. **Enhanced systems, amplified potential:** Enhanced geothermal systems (EGS) are revolutionizing the utilization of geothermal energy. These systems inject water into fractured rock formations, stimulating heat transfer and creating reservoirs where they don't naturally exist. This opens up possibilities for geothermal development in previously inaccessible areas, significantly expanding its potential. These advancements are pushing the boundaries of geothermal energy exploration and utilization. As we delve deeper and leverage smarter systems, geothermal is poised to play a larger role in our clean and sustainable energy future. ## Unearthing Potential: Advancements in Geothermal Exploration Geothermal energy, the heat emanating from Earth's core, holds immense potential, but unlocking it requires efficient exploration methods. Recent advancements are paving the way for a more sustainable and cost-effective future for geothermal energy. **Drilling deeper, smarter:** Traditional drilling techniques can be expensive and have limitations in reaching deeper, hotter geothermal reservoirs. New approaches, like directional drilling and slimhole drilling, are offering more precise and cost-effective solutions. Additionally, advancements in seismic imaging and other geophysical techniques are providing a clearer picture of the subsurface, leading to more targeted drilling and reducing risks. **Beyond the natural reservoir:** Enhanced geothermal systems (EGS) are pushing the boundaries of geothermal exploration. This technology involves injecting water into fractured rock formations, creating an artificial reservoir of hot water that can be extracted and used for energy generation. EGS holds significant promise for unlocking geothermal potential in areas with limited natural resources. These advancements are not just exciting developments; they are crucial for unlocking the\\nAnswer: Which enhanced systems are unlocking geothermal potential in areas with naturally low permeability?\\n\\n## Geothermal: Unveiling Earth's Hidden Heat\\n\\nDeep beneath our feet lies a vast, untapped reservoir of renewable energy \\u2013 geothermal heat. Unlocking this potential is where new exploration techniques and enhanced geothermal systems (EGS) are making a difference.\\n\\n### Drilling deeper, smarter:\\n\\nTraditional dr\", \"SourceDoc\": [\"12\", \"10\", \"11\"]}\n"
     ]
    }
   ],
   "source": [
    "# response = answer_question(\"what is the impact of renewable energe?\", index)\n",
    "# response = answer_question(\"Which advancements demonstrate that hydropower is not a stagnant source?\", index)\n",
    "# response = answer_question(\"Where does the future of solar lie?\", index)\n",
    "response = answer_question(\"Which enhanced systems are unlocking geothermal potential in areas with naturally low permeability?\", index)\n",
    "\n",
    "\n",
    "print(json.dumps(response))"
   ]
  },
  {
   "cell_type": "code",
   "execution_count": 59,
   "id": "caddfe08",
   "metadata": {},
   "outputs": [],
   "source": [
    "from nltk.translate.bleu_score import sentence_bleu\n",
    "\n",
    "def evaluate_answer(reference_answer, generated_answer):\n",
    "    bleu_score = sentence_bleu([reference_answer.split()], generated_answer.split())\n",
    "    return {\"Score\": bleu_score, \"Feedback\": \"The answer is relatively close to the reference answer based on BLEU.\"}"
   ]
  },
  {
   "cell_type": "code",
   "execution_count": 60,
   "id": "b7b70345",
   "metadata": {},
   "outputs": [
    {
     "name": "stdout",
     "output_type": "stream",
     "text": [
      "{'Score': 0.3105806097102945, 'Feedback': 'The answer is relatively close to the reference answer based on BLEU.'}\n"
     ]
    }
   ],
   "source": [
    "# Example usage\n",
    "answer= \"\"\"## Geothermal: Unveiling Earth's Hidden Heat\n",
    "Deep beneath our feet lies a vast, untapped reservoir of renewable energy – geothermal heat. Unlocking this potential is where new exploration techniques and enhanced geothermal systems (EGS) are making a difference.\n",
    "**Drilling deeper, smarter:** \n",
    "Traditional drilling methods can be expensive and limited in reaching deeper, hotter geothermal resources. New techniques like directional drilling and slim-hole drilling are offering more cost-effective and precise ways to access these valuable sources. Additionally, advancements in seismic imaging are providing a clearer picture of the subsurface, allowing for more targeted drilling and reducing exploration risks.\n",
    "**Boosting the potential:** \n",
    "Enhanced geothermal systems (EGS) are unlocking geothermal potential in areas with naturally low permeability. By injecting water through fractured rock formations, EGS creates artificial reservoirs of hot water, enabling the extraction of geothermal energy even in locations previously deemed unsuitable.\n",
    "These advancements are paving the way for a more sustainable future powered by geothermal energy. By efficiently accessing and utilizing Earth's natural heat, we can tap into a clean and reliable source of renewable energy for generations to come.\"\"\"\n",
    "\n",
    "\n",
    "evaluation = evaluate_answer(answer, response[\"Answer\"])\n",
    "print(evaluation)"
   ]
  },
  {
   "cell_type": "code",
   "execution_count": null,
   "id": "493279db",
   "metadata": {},
   "outputs": [],
   "source": []
  }
 ],
 "metadata": {
  "kernelspec": {
   "display_name": "rappel_env",
   "language": "python",
   "name": "python3"
  },
  "language_info": {
   "codemirror_mode": {
    "name": "ipython",
    "version": 3
   },
   "file_extension": ".py",
   "mimetype": "text/x-python",
   "name": "python",
   "nbconvert_exporter": "python",
   "pygments_lexer": "ipython3",
   "version": "3.9.6"
  }
 },
 "nbformat": 4,
 "nbformat_minor": 5
}
