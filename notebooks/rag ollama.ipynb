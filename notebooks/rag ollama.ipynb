{
 "cells": [
  {
   "cell_type": "code",
   "execution_count": 78,
   "id": "2bf48a99-8066-406f-864a-b8f4af4cfd0d",
   "metadata": {},
   "outputs": [],
   "source": [
    "# !pip install ollama"
   ]
  },
  {
   "cell_type": "code",
   "execution_count": 80,
   "id": "08b505b8",
   "metadata": {},
   "outputs": [],
   "source": [
    "# !ollama pull mistral"
   ]
  },
  {
   "cell_type": "code",
   "execution_count": 81,
   "id": "597d67f0-5837-43f2-93cc-f3e3d383ac35",
   "metadata": {},
   "outputs": [],
   "source": [
    "import os\n",
    "import json\n",
    "import glob\n",
    "from rank_bm25 import *\n",
    "from nltk.tokenize import word_tokenize\n"
   ]
  },
  {
   "cell_type": "code",
   "execution_count": 82,
   "id": "53596429-ac38-486f-bb30-a4504909bf56",
   "metadata": {},
   "outputs": [],
   "source": [
    "def parse_documents(documents_folder):\n",
    "    document_texts = {}\n",
    "    for file_path in glob.glob(os.path.join(documents_folder, \"*.txt\")):\n",
    "        with open(file_path, 'r') as file:\n",
    "            doc_id = os.path.basename(file_path).split('.')[0]\n",
    "            document_texts[doc_id] = file.read()\n",
    "    return document_texts\n",
    "\n",
    "def build_index(documents_folder):\n",
    "    documents = parse_documents(documents_folder)\n",
    "    corpus = [word_tokenize(doc.lower()) for doc in documents.values()]\n",
    "    bm25 = BM25Okapi(corpus)\n",
    "    index = {\"bm25\": bm25, \"document_ids\":list(documents.keys()), \"corpus\": corpus}\n",
    "    return index\n",
    "\n",
    "def retrieve_documents(question, index):\n",
    "    tokenized_query = word_tokenize(question.lower())\n",
    "    bm25 = index['bm25']\n",
    "    scores = bm25.get_scores(tokenized_query)\n",
    "    top_indices = sorted(range(len(scores)), key=lambda i: scores[i], reverse=True)[:3]\n",
    "    top_docs = [index['document_ids'][i] for i in top_indices]\n",
    "    return top_docs"
   ]
  },
  {
   "cell_type": "code",
   "execution_count": 83,
   "id": "444971e2-cb4e-4eaf-92cb-9829af91d20b",
   "metadata": {
    "scrolled": true
   },
   "outputs": [
    {
     "name": "stdout",
     "output_type": "stream",
     "text": [
      "['12', '10', '11']\n"
     ]
    }
   ],
   "source": [
    "index = build_index(documents_folder=\"renewable-energy/renewable-energy\")\n",
    "\n",
    "top_docs = retrieve_documents(\"Which enhanced systems are unlocking geothermal potential in areas with naturally low permeability?\", index)\n",
    "print(top_docs)"
   ]
  },
  {
   "cell_type": "code",
   "execution_count": 84,
   "id": "edc613da",
   "metadata": {},
   "outputs": [],
   "source": [
    "import ollama\n",
    "\n",
    "def answer_question(question, index):\n",
    "    # Retrieve top documents based on the query\n",
    "    top_docs = retrieve_documents(question, index)\n",
    "\n",
    "    # Combine content of the top documents and truncate if necessary\n",
    "    combined_docs = \"\"\n",
    "    for doc_id in top_docs:\n",
    "        with open(f\"renewable-energy/renewable-energy/{doc_id}.txt\", 'r') as file:\n",
    "            combined_docs += file.read() + \"\\n\"\n",
    "\n",
    "\n",
    "    prompt = (\n",
    "        f\"Please answer the following question based on the provided documents.\\n\\n\"\n",
    "        f\"Question: {question}\\n\\n\"\n",
    "        f\"Documents:\\n{combined_docs}\\n\\n\"\n",
    "    )\n",
    "    \n",
    "    try:\n",
    "        response = ollama.chat(\n",
    "            model='mistral', \n",
    "            messages=[{'role': 'user', 'content': prompt}]\n",
    "        )\n",
    "        # Extract answer content if response is correctly structured\n",
    "        answer_text = response['message']['content'] if response and 'message' in response else \"No answer generated.\"\n",
    "\n",
    "    except Exception as e:\n",
    "        print(f\"An error occurred: {e}\")\n",
    "        answer_text = \"Error in generating response.\"\n",
    "\n",
    "    # Return answer along with source document references\n",
    "    return {\"Answer\": answer_text, \"SourceDoc\": top_docs}"
   ]
  },
  {
   "cell_type": "code",
   "execution_count": 85,
   "id": "61da84f1-b0c4-4999-8746-c6e38aff02d6",
   "metadata": {},
   "outputs": [
    {
     "name": "stdout",
     "output_type": "stream",
     "text": [
      "{\"Answer\": \" The documents provided mention that Enhanced Geothermal Systems (EGS) are unlocking geothermal potential in areas with naturally low permeability. EGS works by injecting water through fractured rock formations, creating artificial reservoirs of hot water, enabling the extraction of geothermal energy even in locations previously deemed unsuitable.\", \"SourceDoc\": [\"12\", \"10\", \"11\"]}\n"
     ]
    }
   ],
   "source": [
    "# response = answer_question(\"what is the impact of renewable energe?\", index)\n",
    "# response = answer_question(\"Which advancements demonstrate that hydropower is not a stagnant source?\", index)\n",
    "# response = answer_question(\"Where does the future of solar lie?\", index)\n",
    "response = answer_question(\"Which enhanced systems are unlocking geothermal potential in areas with naturally low permeability?\", index)\n",
    "\n",
    "\n",
    "print(json.dumps(response))\n"
   ]
  },
  {
   "cell_type": "code",
   "execution_count": 86,
   "id": "caddfe08",
   "metadata": {},
   "outputs": [],
   "source": [
    "from nltk.translate.bleu_score import sentence_bleu\n",
    "\n",
    "def evaluate_answer(reference_answer, generated_answer):\n",
    "    bleu_score = sentence_bleu([reference_answer.split()], generated_answer.split())\n",
    "    return {\"Score\": bleu_score, \"Feedback\": \"The answer is relatively close to the reference answer based on BLEU.\"}"
   ]
  },
  {
   "cell_type": "code",
   "execution_count": 87,
   "id": "b7b70345",
   "metadata": {},
   "outputs": [
    {
     "name": "stdout",
     "output_type": "stream",
     "text": [
      "{'Score': 0.25728025143580546, 'Feedback': 'The answer is relatively close to the reference answer based on BLEU.'}\n"
     ]
    }
   ],
   "source": [
    "answer = \"Enhanced Geothermal Systems (EGS) are unlocking geothermal potential in areas with naturally low permeability\"\n",
    "\n",
    "evaluation = evaluate_answer(answer, response[\"Answer\"])\n",
    "print(evaluation)"
   ]
  },
  {
   "cell_type": "code",
   "execution_count": null,
   "id": "493279db",
   "metadata": {},
   "outputs": [],
   "source": []
  }
 ],
 "metadata": {
  "kernelspec": {
   "display_name": "rappel_env",
   "language": "python",
   "name": "python3"
  },
  "language_info": {
   "codemirror_mode": {
    "name": "ipython",
    "version": 3
   },
   "file_extension": ".py",
   "mimetype": "text/x-python",
   "name": "python",
   "nbconvert_exporter": "python",
   "pygments_lexer": "ipython3",
   "version": "3.9.6"
  }
 },
 "nbformat": 4,
 "nbformat_minor": 5
}
